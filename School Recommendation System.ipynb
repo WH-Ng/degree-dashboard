{
 "cells": [
  {
   "cell_type": "code",
   "execution_count": 2,
   "id": "34861e5d",
   "metadata": {},
   "outputs": [],
   "source": [
    "import pandas as pd"
   ]
  },
  {
   "cell_type": "code",
   "execution_count": 4,
   "id": "60eb5a34",
   "metadata": {},
   "outputs": [],
   "source": [
    "school_data = pd.read_csv('schools_register_for_website_0.csv')"
   ]
  },
  {
   "cell_type": "code",
   "execution_count": 7,
   "id": "7f3130d4",
   "metadata": {},
   "outputs": [
    {
     "data": {
      "text/html": [
       "<div>\n",
       "<style scoped>\n",
       "    .dataframe tbody tr th:only-of-type {\n",
       "        vertical-align: middle;\n",
       "    }\n",
       "\n",
       "    .dataframe tbody tr th {\n",
       "        vertical-align: top;\n",
       "    }\n",
       "\n",
       "    .dataframe thead th {\n",
       "        text-align: right;\n",
       "    }\n",
       "</style>\n",
       "<table border=\"1\" class=\"dataframe\">\n",
       "  <thead>\n",
       "    <tr style=\"text-align: right;\">\n",
       "      <th></th>\n",
       "      <th>School Number</th>\n",
       "      <th>Registered School</th>\n",
       "      <th>School Entity</th>\n",
       "      <th>Campus Type</th>\n",
       "      <th>Address</th>\n",
       "      <th>School Sector</th>\n",
       "      <th>School Type</th>\n",
       "      <th>Registered Year Levels</th>\n",
       "      <th>Campus Year Range</th>\n",
       "      <th>Conditions on registration</th>\n",
       "      <th>CRICOS Endorsed</th>\n",
       "      <th>Campus Name</th>\n",
       "    </tr>\n",
       "  </thead>\n",
       "  <tbody>\n",
       "    <tr>\n",
       "      <th>0</th>\n",
       "      <td>536</td>\n",
       "      <td>Aberfoyle Hub Primary School</td>\n",
       "      <td>Single Entity</td>\n",
       "      <td>Head Campus</td>\n",
       "      <td>29 Jeanette Crescent SA ABERFOYLE PARK 5159</td>\n",
       "      <td>Government</td>\n",
       "      <td>Primary</td>\n",
       "      <td>Reception to Year 6</td>\n",
       "      <td>Reception to Year 6</td>\n",
       "      <td>No</td>\n",
       "      <td>No</td>\n",
       "      <td>NaN</td>\n",
       "    </tr>\n",
       "    <tr>\n",
       "      <th>1</th>\n",
       "      <td>1673</td>\n",
       "      <td>Aberfoyle Park High School</td>\n",
       "      <td>Single Entity</td>\n",
       "      <td>Head Campus</td>\n",
       "      <td>Taylors Road East SA ABERFOYLE PARK 5159</td>\n",
       "      <td>Government</td>\n",
       "      <td>Secondary</td>\n",
       "      <td>Year 7 to Year 12</td>\n",
       "      <td>Year 7 to Year 12</td>\n",
       "      <td>No</td>\n",
       "      <td>Yes</td>\n",
       "      <td>NaN</td>\n",
       "    </tr>\n",
       "    <tr>\n",
       "      <th>2</th>\n",
       "      <td>1919</td>\n",
       "      <td>Adelaide Botanic High School</td>\n",
       "      <td>Single Entity</td>\n",
       "      <td>Head Campus</td>\n",
       "      <td>Frome Road SA ADELAIDE 5000</td>\n",
       "      <td>Government</td>\n",
       "      <td>Secondary</td>\n",
       "      <td>Year 7 to Year 12</td>\n",
       "      <td>Year 7 to Year 12</td>\n",
       "      <td>No</td>\n",
       "      <td>No</td>\n",
       "      <td>NaN</td>\n",
       "    </tr>\n",
       "    <tr>\n",
       "      <th>3</th>\n",
       "      <td>997</td>\n",
       "      <td>Adelaide East Education Centre</td>\n",
       "      <td>Single Entity</td>\n",
       "      <td>Head Campus</td>\n",
       "      <td>31 Campbell Road SA CAMPBELLTOWN 5074</td>\n",
       "      <td>Government</td>\n",
       "      <td>Secondary</td>\n",
       "      <td>Year 7 to Year 12</td>\n",
       "      <td>Year 7 to Year 12</td>\n",
       "      <td>No</td>\n",
       "      <td>No</td>\n",
       "      <td>NaN</td>\n",
       "    </tr>\n",
       "    <tr>\n",
       "      <th>4</th>\n",
       "      <td>768</td>\n",
       "      <td>Adelaide High School</td>\n",
       "      <td>Single Entity</td>\n",
       "      <td>Head Campus</td>\n",
       "      <td>West Terrace SA ADELAIDE 5000</td>\n",
       "      <td>Government</td>\n",
       "      <td>Secondary</td>\n",
       "      <td>Year 7 to Year 12</td>\n",
       "      <td>Year 7 to Year 12</td>\n",
       "      <td>No</td>\n",
       "      <td>Yes</td>\n",
       "      <td>NaN</td>\n",
       "    </tr>\n",
       "  </tbody>\n",
       "</table>\n",
       "</div>"
      ],
      "text/plain": [
       "   School Number               Registered School  School Entity  Campus Type  \\\n",
       "0            536    Aberfoyle Hub Primary School  Single Entity  Head Campus   \n",
       "1           1673      Aberfoyle Park High School  Single Entity  Head Campus   \n",
       "2           1919    Adelaide Botanic High School  Single Entity  Head Campus   \n",
       "3            997  Adelaide East Education Centre  Single Entity  Head Campus   \n",
       "4            768            Adelaide High School  Single Entity  Head Campus   \n",
       "\n",
       "                                       Address School Sector School Type  \\\n",
       "0  29 Jeanette Crescent SA ABERFOYLE PARK 5159    Government     Primary   \n",
       "1     Taylors Road East SA ABERFOYLE PARK 5159    Government   Secondary   \n",
       "2                  Frome Road SA ADELAIDE 5000    Government   Secondary   \n",
       "3        31 Campbell Road SA CAMPBELLTOWN 5074    Government   Secondary   \n",
       "4                West Terrace SA ADELAIDE 5000    Government   Secondary   \n",
       "\n",
       "  Registered Year Levels    Campus Year Range Conditions on registration  \\\n",
       "0    Reception to Year 6  Reception to Year 6                         No   \n",
       "1      Year 7 to Year 12    Year 7 to Year 12                         No   \n",
       "2      Year 7 to Year 12    Year 7 to Year 12                         No   \n",
       "3      Year 7 to Year 12    Year 7 to Year 12                         No   \n",
       "4      Year 7 to Year 12    Year 7 to Year 12                         No   \n",
       "\n",
       "  CRICOS Endorsed Campus Name  \n",
       "0              No         NaN  \n",
       "1             Yes         NaN  \n",
       "2              No         NaN  \n",
       "3              No         NaN  \n",
       "4             Yes         NaN  "
      ]
     },
     "execution_count": 7,
     "metadata": {},
     "output_type": "execute_result"
    }
   ],
   "source": [
    "school_data.head()"
   ]
  },
  {
   "cell_type": "code",
   "execution_count": 8,
   "id": "1712f24c",
   "metadata": {},
   "outputs": [
    {
     "data": {
      "text/plain": [
       "School Number                   0\n",
       "Registered School               0\n",
       "School Entity                   0\n",
       "Campus Type                     0\n",
       "Address                         0\n",
       "School Sector                   0\n",
       "School Type                     0\n",
       "Registered Year Levels          0\n",
       "Campus Year Range               0\n",
       "Conditions on registration      0\n",
       "CRICOS Endorsed                 1\n",
       "Campus Name                   686\n",
       "dtype: int64"
      ]
     },
     "execution_count": 8,
     "metadata": {},
     "output_type": "execute_result"
    }
   ],
   "source": [
    "school_data.isnull().sum()"
   ]
  },
  {
   "cell_type": "markdown",
   "id": "6f91cb4d",
   "metadata": {},
   "source": [
    "## EDA"
   ]
  },
  {
   "cell_type": "code",
   "execution_count": 31,
   "id": "71d3fd14",
   "metadata": {},
   "outputs": [],
   "source": [
    "import matplotlib.pyplot as plt\n",
    "import seaborn as sns"
   ]
  },
  {
   "cell_type": "code",
   "execution_count": 27,
   "id": "871405c1",
   "metadata": {},
   "outputs": [
    {
     "name": "stdout",
     "output_type": "stream",
     "text": [
      "<class 'pandas.core.frame.DataFrame'>\n",
      "RangeIndex: 778 entries, 0 to 777\n",
      "Data columns (total 12 columns):\n",
      " #   Column                      Non-Null Count  Dtype \n",
      "---  ------                      --------------  ----- \n",
      " 0   School Number               778 non-null    int64 \n",
      " 1   Registered School           778 non-null    object\n",
      " 2   School Entity               778 non-null    object\n",
      " 3   Campus Type                 778 non-null    object\n",
      " 4   Address                     778 non-null    object\n",
      " 5   School Sector               778 non-null    object\n",
      " 6   School Type                 778 non-null    object\n",
      " 7   Registered Year Levels      778 non-null    object\n",
      " 8   Campus Year Range           778 non-null    object\n",
      " 9   Conditions on registration  778 non-null    object\n",
      " 10  CRICOS Endorsed             777 non-null    object\n",
      " 11  Campus Name                 92 non-null     object\n",
      "dtypes: int64(1), object(11)\n",
      "memory usage: 73.1+ KB\n"
     ]
    }
   ],
   "source": [
    "school_data.info()"
   ]
  },
  {
   "cell_type": "code",
   "execution_count": 29,
   "id": "142f95e7",
   "metadata": {},
   "outputs": [
    {
     "data": {
      "text/plain": [
       "School Number                   0\n",
       "Registered School               0\n",
       "School Entity                   0\n",
       "Campus Type                     0\n",
       "Address                         0\n",
       "School Sector                   0\n",
       "School Type                     0\n",
       "Registered Year Levels          0\n",
       "Campus Year Range               0\n",
       "Conditions on registration      0\n",
       "CRICOS Endorsed                 1\n",
       "Campus Name                   686\n",
       "dtype: int64"
      ]
     },
     "execution_count": 29,
     "metadata": {},
     "output_type": "execute_result"
    }
   ],
   "source": [
    "school_data.isna().sum()"
   ]
  },
  {
   "cell_type": "code",
   "execution_count": 11,
   "id": "883717d0",
   "metadata": {},
   "outputs": [
    {
     "data": {
      "text/plain": [
       "778"
      ]
     },
     "execution_count": 11,
     "metadata": {},
     "output_type": "execute_result"
    }
   ],
   "source": [
    "school_data['Registered School'].count()"
   ]
  },
  {
   "cell_type": "code",
   "execution_count": 20,
   "id": "af91ec33",
   "metadata": {},
   "outputs": [
    {
     "name": "stdout",
     "output_type": "stream",
     "text": [
      "School Entity\n",
      "Single Entity      676\n",
      "Multiple Entity    102\n",
      "Name: count, dtype: int64\n"
     ]
    }
   ],
   "source": [
    "print(school_data['School Entity'].value_counts())"
   ]
  },
  {
   "cell_type": "code",
   "execution_count": null,
   "id": "64c1e9a6",
   "metadata": {},
   "outputs": [],
   "source": [
    "entity_counts = school_data['School Entity'].value_counts()"
   ]
  },
  {
   "cell_type": "code",
   "execution_count": 45,
   "id": "636bdf0c",
   "metadata": {},
   "outputs": [
    {
     "data": {
      "text/plain": [
       "(array([0, 1]), [Text(0, 0, 'Single Entity'), Text(1, 0, 'Multiple Entity')])"
      ]
     },
     "execution_count": 45,
     "metadata": {},
     "output_type": "execute_result"
    },
    {
     "data": {
      "image/png": "[encoded data removed]",
      "text/plain": [
       "<Figure size 640x480 with 1 Axes>"
      ]
     },
     "metadata": {},
     "output_type": "display_data"
    }
   ],
   "source": [
    "entity_counts.plot(kind='bar', color=['skyblue', 'salmon'])\n",
    "plt.title('Distribution of School Entities Across SA')\n",
    "plt.xlabel('School Entity')\n",
    "plt.ylabel('Count')\n",
    "plt.xticks(rotation=0)"
   ]
  },
  {
   "cell_type": "code",
   "execution_count": 42,
   "id": "2946035c",
   "metadata": {},
   "outputs": [],
   "source": [
    "campus_counts = school_data['Campus Type'].value_counts()"
   ]
  },
  {
   "cell_type": "code",
   "execution_count": 49,
   "id": "ce9cb1ef",
   "metadata": {},
   "outputs": [
    {
     "data": {
      "text/plain": [
       "(array([0, 1]), [Text(0, 0, 'Head Campus'), Text(1, 0, 'Sub Campus')])"
      ]
     },
     "execution_count": 49,
     "metadata": {},
     "output_type": "execute_result"
    },
    {
     "data": {
      "image/png": "[encoded data removed]",
      "text/plain": [
       "<Figure size 640x480 with 1 Axes>"
      ]
     },
     "metadata": {},
     "output_type": "display_data"
    }
   ],
   "source": [
    "campus_counts.plot(kind='bar', color=['skyblue', 'salmon'])\n",
    "plt.title('Distribution of Campus Type Across SA')\n",
    "plt.xlabel('Campus Type')\n",
    "plt.ylabel('Count')\n",
    "plt.xticks(rotation=0)"
   ]
  },
  {
   "cell_type": "code",
   "execution_count": 25,
   "id": "daa1d943",
   "metadata": {},
   "outputs": [
    {
     "data": {
      "text/plain": [
       "Address\n",
       "South Terrace SA BORDERTOWN 5268             2\n",
       "4 Seymour Street SA EDEN HILLS 5050          2\n",
       "1-37 Marden Road SA MARDEN 5070              2\n",
       "Alexander Avenue SA EVANSTON SOUTH 5116      2\n",
       "Drummond Avenue SA FINDON 5023               2\n",
       "                                            ..\n",
       "Phillips Road SA KARCULTABY 5654             1\n",
       "North Terrace SA KAROONDA 5307               1\n",
       "15 Bradman Road SA PARAFIELD GARDENS 5107    1\n",
       "Ridley Road SA ELIZABETH 5112                1\n",
       "110 Hindley Street SA ADELAIDE 5000          1\n",
       "Name: count, Length: 766, dtype: int64"
      ]
     },
     "execution_count": 25,
     "metadata": {},
     "output_type": "execute_result"
    }
   ],
   "source": [
    "school_data['Address'].value_counts()"
   ]
  },
  {
   "cell_type": "code",
   "execution_count": 26,
   "id": "f9c299f0",
   "metadata": {},
   "outputs": [
    {
     "name": "stdout",
     "output_type": "stream",
     "text": [
      "School Sector\n",
      "Government        522\n",
      "Non-Government    256\n",
      "Name: count, dtype: int64\n"
     ]
    }
   ],
   "source": [
    "print(school_data['School Sector'].value_counts())"
   ]
  },
  {
   "cell_type": "code",
   "execution_count": null,
   "id": "a89941aa",
   "metadata": {},
   "outputs": [],
   "source": []
  },
  {
   "cell_type": "code",
   "execution_count": null,
   "id": "76acfc93",
   "metadata": {},
   "outputs": [],
   "source": []
  },
  {
   "cell_type": "code",
   "execution_count": null,
   "id": "a3a5f231",
   "metadata": {},
   "outputs": [],
   "source": []
  },
  {
   "cell_type": "code",
   "execution_count": null,
   "id": "1b125fef",
   "metadata": {},
   "outputs": [],
   "source": []
  },
  {
   "cell_type": "code",
   "execution_count": null,
   "id": "87fa0ddd",
   "metadata": {},
   "outputs": [],
   "source": []
  },
  {
   "cell_type": "code",
   "execution_count": null,
   "id": "5c690736",
   "metadata": {},
   "outputs": [],
   "source": []
  },
  {
   "cell_type": "code",
   "execution_count": null,
   "id": "62e24750",
   "metadata": {},
   "outputs": [],
   "source": []
  },
  {
   "cell_type": "code",
   "execution_count": null,
   "id": "4ae2b26b",
   "metadata": {},
   "outputs": [],
   "source": []
  },
  {
   "cell_type": "code",
   "execution_count": null,
   "id": "9d58efa8",
   "metadata": {},
   "outputs": [],
   "source": []
  },
  {
   "cell_type": "code",
   "execution_count": null,
   "id": "0198b9f7",
   "metadata": {},
   "outputs": [],
   "source": []
  },
  {
   "cell_type": "code",
   "execution_count": null,
   "id": "1b7bb657",
   "metadata": {},
   "outputs": [],
   "source": []
  },
  {
   "cell_type": "code",
   "execution_count": null,
   "id": "d63aef15",
   "metadata": {},
   "outputs": [],
   "source": []
  },
  {
   "cell_type": "code",
   "execution_count": null,
   "id": "e7be7087",
   "metadata": {},
   "outputs": [],
   "source": []
  },
  {
   "cell_type": "code",
   "execution_count": null,
   "id": "05062599",
   "metadata": {},
   "outputs": [],
   "source": []
  },
  {
   "cell_type": "code",
   "execution_count": null,
   "id": "4d3449e4",
   "metadata": {},
   "outputs": [],
   "source": []
  },
  {
   "cell_type": "code",
   "execution_count": null,
   "id": "fbfebf24",
   "metadata": {},
   "outputs": [],
   "source": []
  }
 ],
 "metadata": {
  "kernelspec": {
   "display_name": "Python 3 (ipykernel)",
   "language": "python",
   "name": "python3"
  },
  "language_info": {
   "codemirror_mode": {
    "name": "ipython",
    "version": 3
   },
   "file_extension": ".py",
   "mimetype": "text/x-python",
   "name": "python",
   "nbconvert_exporter": "python",
   "pygments_lexer": "ipython3",
   "version": "3.12.7"
  }
 },
 "nbformat": 4,
 "nbformat_minor": 5
}
