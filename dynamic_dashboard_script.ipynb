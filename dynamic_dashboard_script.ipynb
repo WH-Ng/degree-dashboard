{
 "cells": [
  {
   "cell_type": "code",
   "execution_count": 10,
   "id": "a2d4481d-8ac0-4434-9f6d-3053fc39dd17",
   "metadata": {},
   "outputs": [
    {
     "name": "stdout",
     "output_type": "stream",
     "text": [
      "Overwriting degree_dashboard.py\n"
     ]
    }
   ],
   "source": [
    "%%writefile degree_dashboard.py\n",
    "\n",
    "import streamlit as st\n",
    "import pandas as pd\n",
    "\n",
    "# Load data\n",
    "@st.cache_data\n",
    "def load_data():\n",
    "    return pd.read_csv(\"AU_all_degrees_2026.csv\")\n",
    "\n",
    "df = load_data()\n",
    "\n",
    "st.title(\"🎓 Australian Degrees Explorer\")\n",
    "st.markdown(\"Search, filter and download data on 2026 degrees\")\n",
    "\n",
    "# Sidebar filters\n",
    "st.sidebar.header(\"Filter options\")\n",
    "\n",
    "degree_name = st.sidebar.text_input(\"Search by Degree Name\")\n",
    "campus = st.sidebar.text_input(\"Filter by Campus\")\n",
    "mode = st.sidebar.multiselect(\"Select Mode\", options=df['Mode'].dropna().unique())\n",
    "\n",
    "# Apply filters\n",
    "filtered_df = df.copy()\n",
    "\n",
    "if degree_name:\n",
    "    filtered_df = filtered_df[filtered_df['Degree Name'].str.contains(degree_name, case=False, na=False)]\n",
    "\n",
    "if campus:\n",
    "    filtered_df = filtered_df[filtered_df['Campus'].str.contains(campus, case=False, na=False)]\n",
    "\n",
    "if mode:\n",
    "    filtered_df = filtered_df[filtered_df['Mode'].isin(mode)]\n",
    "\n",
    "# Sort option\n",
    "sort_col = st.selectbox(\"Sort by column\", options=df.columns)\n",
    "ascending = st.radio(\"Sort order\", ['Ascending', 'Descending']) == 'Ascending'\n",
    "filtered_df = filtered_df.sort_values(by=sort_col, ascending=ascending)\n",
    "\n",
    "# Display data\n",
    "st.write(f\"Showing {len(filtered_df)} results\")\n",
    "st.dataframe(filtered_df)\n",
    "\n",
    "# Download button\n",
    "csv = filtered_df.to_csv(index=False).encode('utf-8')\n",
    "st.download_button(\"📥 Download CSV\", csv, \"filtered_degrees.csv\", \"text/csv\")\n"
   ]
  }
 ],
 "metadata": {
  "kernelspec": {
   "display_name": "Python 3 (ipykernel)",
   "language": "python",
   "name": "python3"
  },
  "language_info": {
   "codemirror_mode": {
    "name": "ipython",
    "version": 3
   },
   "file_extension": ".py",
   "mimetype": "text/x-python",
   "name": "python",
   "nbconvert_exporter": "python",
   "pygments_lexer": "ipython3",
   "version": "3.12.7"
  }
 },
 "nbformat": 4,
 "nbformat_minor": 5
}
